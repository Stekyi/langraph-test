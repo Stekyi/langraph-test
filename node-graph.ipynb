{
 "cells": [
  {
   "cell_type": "code",
   "execution_count": 20,
   "id": "07512e46",
   "metadata": {},
   "outputs": [],
   "source": [
    "from typing import TypedDict\n",
    "from langgraph.graph import START, END, StateGraph"
   ]
  },
  {
   "cell_type": "code",
   "execution_count": 17,
   "id": "868388b4",
   "metadata": {},
   "outputs": [],
   "source": [
    "class MoneyState(TypedDict):\n",
    "    euroAmount : float\n",
    "    valuedAmount : float\n",
    "    amountInGhs : float\n",
    "\n",
    "\n",
    "def getInvestTotalNode(state: MoneyState) -> MoneyState:\n",
    "    state['valuedAmount'] = state['euroAmount'] * 3.6\n",
    "    return state\n",
    "\n",
    "def getLocalValueNode(state: MoneyState) -> MoneyState:\n",
    "    state['amountInGhs'] = state['valuedAmount'] * 15\n",
    "    return state\n",
    "    \n"
   ]
  },
  {
   "cell_type": "code",
   "execution_count": 24,
   "id": "b78b431b",
   "metadata": {},
   "outputs": [],
   "source": [
    "builder = StateGraph(MoneyState)\n",
    "builder.add_node('investment_total', getInvestTotalNode)\n",
    "builder.add_node('local_value', getLocalValueNode)\n",
    "\n",
    "builder.add_edge(START, 'investment_total')\n",
    "builder.add_edge('investment_total', 'local_value')\n",
    "builder.add_edge('local_value', END)\n",
    "\n",
    "investGraph = builder.compile()\n"
   ]
  },
  {
   "cell_type": "code",
   "execution_count": 28,
   "id": "997ae9c8",
   "metadata": {},
   "outputs": [
    {
     "data": {
      "image/png": "[encoded data removed]",
      "text/plain": [
       "<IPython.core.display.Image object>"
      ]
     },
     "metadata": {},
     "output_type": "display_data"
    }
   ],
   "source": [
    "from IPython.display import Image, display\n",
    "display(Image(investGraph.get_graph().draw_mermaid_png()))"
   ]
  },
  {
   "cell_type": "code",
   "execution_count": 29,
   "id": "782ce046",
   "metadata": {},
   "outputs": [
    {
     "data": {
      "text/plain": [
       "{'euroAmount': 700, 'valuedAmount': 2520.0, 'amountInGhs': 37800.0}"
      ]
     },
     "execution_count": 29,
     "metadata": {},
     "output_type": "execute_result"
    }
   ],
   "source": [
    "investGraph.invoke({'euroAmount':700})"
   ]
  }
 ],
 "metadata": {
  "kernelspec": {
   "display_name": "langraph-test (3.13.7)",
   "language": "python",
   "name": "python3"
  },
  "language_info": {
   "codemirror_mode": {
    "name": "ipython",
    "version": 3
   },
   "file_extension": ".py",
   "mimetype": "text/x-python",
   "name": "python",
   "nbconvert_exporter": "python",
   "pygments_lexer": "ipython3",
   "version": "3.13.7"
  }
 },
 "nbformat": 4,
 "nbformat_minor": 5
}
